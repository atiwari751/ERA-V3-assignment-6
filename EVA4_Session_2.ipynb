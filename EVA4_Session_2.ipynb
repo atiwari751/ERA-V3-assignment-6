{
  "cells": [
    {
      "cell_type": "code",
      "execution_count": 55,
      "metadata": {
        "id": "0m2JWFliFfKT"
      },
      "outputs": [],
      "source": [
        "from __future__ import print_function\n",
        "import torch\n",
        "import torch.nn as nn\n",
        "import torch.nn.functional as F\n",
        "import torch.optim as optim\n",
        "from torchvision import datasets, transforms"
      ]
    },
    {
      "cell_type": "code",
      "execution_count": 65,
      "metadata": {
        "id": "h_Cx9q2QFgM7"
      },
      "outputs": [],
      "source": [
        "class Net(nn.Module):\n",
        "    def __init__(self):\n",
        "        super(Net, self).__init__()\n",
        "        self.conv1 = nn.Conv2d(1, 10, 3) #input -? OUtput? RF\n",
        "        self.bn1 = nn.BatchNorm2d(10)\n",
        "        self.conv2 = nn.Conv2d(10, 18, 3)\n",
        "        self.bn2 = nn.BatchNorm2d(18)\n",
        "        self.pool1 = nn.MaxPool2d(2, 2)\n",
        "        self.dropout1 = nn.Dropout2d(0.15)\n",
        "        self.conv3 = nn.Conv2d(18, 18, 3)\n",
        "        self.bn3 = nn.BatchNorm2d(18)\n",
        "        self.conv4 = nn.Conv2d(18, 18, 3)\n",
        "        self.bn4 = nn.BatchNorm2d(18)\n",
        "        self.pool2 = nn.MaxPool2d(2, 2)\n",
        "        self.dropout2 = nn.Dropout2d(0.15)\n",
        "        self.conv5 = nn.Conv2d(18, 18, 3, padding=1)\n",
        "        self.conv6 = nn.Conv2d(18, 18, 3, padding=1)\n",
        "        #self.conv7 = nn.Conv2d(1024, 10, 3)\n",
        "        self.fc1 = nn.Linear(4*4*18, 32)\n",
        "        self.out = nn.Linear(32, 10)\n",
        "\n",
        "    def forward(self, x):\n",
        "        x = F.relu(self.bn1(self.conv1(x)))\n",
        "        x = self.pool1(F.relu(self.bn2(self.conv2(x))))\n",
        "        x = self.dropout1(x)\n",
        "        x = F.relu(self.bn3(self.conv3(x)))\n",
        "        x = self.pool2(F.relu(self.bn4(self.conv4(x))))\n",
        "        x = self.dropout2(x)\n",
        "        x = F.relu(self.conv5(x))\n",
        "        #x = F.relu(self.conv6(x))\n",
        "        x = x.reshape (-1, 4*4*18)\n",
        "        x = self.fc1(x)\n",
        "        x = F.relu(x)\n",
        "        x = self.out(x)\n",
        "        return x\n",
        "        #x = self.pool1(F.relu(self.conv2(F.relu(self.conv1(x)))))\n",
        "        #x = self.pool2(F.relu(self.conv4(F.relu(self.conv3(x)))))\n",
        "        #x = F.relu(self.conv6(F.relu(self.conv5(x))))\n",
        "        #x = F.relu(self.conv7(x))\n",
        "        #x = x.view(-1, 10)\n",
        "        #return F.log_softmax(x)"
      ]
    },
    {
      "cell_type": "code",
      "execution_count": 66,
      "metadata": {
        "id": "xdydjYTZFyi3"
      },
      "outputs": [
        {
          "name": "stdout",
          "output_type": "stream",
          "text": [
            "True\n",
            "----------------------------------------------------------------\n",
            "        Layer (type)               Output Shape         Param #\n",
            "================================================================\n",
            "            Conv2d-1           [-1, 10, 26, 26]             100\n",
            "       BatchNorm2d-2           [-1, 10, 26, 26]              20\n",
            "            Conv2d-3           [-1, 18, 24, 24]           1,638\n",
            "       BatchNorm2d-4           [-1, 18, 24, 24]              36\n",
            "         MaxPool2d-5           [-1, 18, 12, 12]               0\n",
            "         Dropout2d-6           [-1, 18, 12, 12]               0\n",
            "            Conv2d-7           [-1, 18, 10, 10]           2,934\n",
            "       BatchNorm2d-8           [-1, 18, 10, 10]              36\n",
            "            Conv2d-9             [-1, 18, 8, 8]           2,934\n",
            "      BatchNorm2d-10             [-1, 18, 8, 8]              36\n",
            "        MaxPool2d-11             [-1, 18, 4, 4]               0\n",
            "        Dropout2d-12             [-1, 18, 4, 4]               0\n",
            "           Conv2d-13             [-1, 18, 4, 4]           2,934\n",
            "           Linear-14                   [-1, 32]           9,248\n",
            "           Linear-15                   [-1, 10]             330\n",
            "================================================================\n",
            "Total params: 20,246\n",
            "Trainable params: 20,246\n",
            "Non-trainable params: 0\n",
            "----------------------------------------------------------------\n",
            "Input size (MB): 0.00\n",
            "Forward/backward pass size (MB): 0.35\n",
            "Params size (MB): 0.08\n",
            "Estimated Total Size (MB): 0.43\n",
            "----------------------------------------------------------------\n"
          ]
        }
      ],
      "source": [
        "#!pip install torchsummary\n",
        "from torchsummary import summary\n",
        "use_cuda = torch.cuda.is_available()\n",
        "print(use_cuda)\n",
        "#print(torch.cuda.device_count())\n",
        "#print(torch.cuda.memory_allocated(0)/1024)\n",
        "#use_cuda = False\n",
        "device = torch.device(\"cuda\" if use_cuda else \"cpu\")\n",
        "#device = torch.device(\"cpu\")\n",
        "model = Net().to(device)\n",
        "summary(model, input_size=(1, 28, 28))"
      ]
    },
    {
      "cell_type": "code",
      "execution_count": 70,
      "metadata": {
        "id": "DqTWLaM5GHgH"
      },
      "outputs": [],
      "source": [
        "\n",
        "\n",
        "#torch.manual_seed(1)\n",
        "#batch_size_train = 5000\n",
        "#batch_size_test = 1000\n",
        "\n",
        "#kwargs = {'num_workers': 4, 'pin_memory': True} if use_cuda else {}\n",
        "#train_loader = torch.utils.data.DataLoader(\n",
        "    #datasets.MNIST('../data', train=True, download=True,\n",
        "                    #transform=transforms.Compose([\n",
        "                        #transforms.ToTensor(),\n",
        "                        #transforms.Normalize((0.1307,), (0.3081,))\n",
        "                    #])),\n",
        "    #batch_size=batch_size_train, shuffle=True, **kwargs)\n",
        "#test_loader = torch.utils.data.DataLoader(\n",
        "    #datasets.MNIST('../data', train=False, transform=transforms.Compose([\n",
        "                        #transforms.ToTensor(),\n",
        "                        #transforms.Normalize((0.1307,), (0.3081,))\n",
        "                    #])),\n",
        "    #batch_size=batch_size_test, shuffle=True, **kwargs)\n",
        "    \n",
        "torch.manual_seed(1)\n",
        "batch_size_train = 5000\n",
        "batch_size_test = 1000\n",
        "\n",
        "kwargs = {'num_workers': 4, 'pin_memory': True} if use_cuda else {}\n",
        "\n",
        "# Define augmentation for training data\n",
        "train_transforms = transforms.Compose([\n",
        "    # Spatial augmentations\n",
        "    transforms.RandomRotation((-10, 10)),              # Random rotation ±8 degrees\n",
        "    transforms.RandomAffine(\n",
        "        degrees=0,                                   # No additional rotation\n",
        "        translate=(0.1, 0.1),                        # Random shift up to 10%\n",
        "        scale=(0.9, 1.1),                           # Random scaling ±10%\n",
        "        shear=(-5, 5)\n",
        "        #fillcolor=0                                  # Fill empty space with black\n",
        "    ),\n",
        "    \n",
        "    # Convert to tensor and normalize\n",
        "    transforms.ToTensor(),\n",
        "    transforms.Normalize((0.1307,), (0.3081,))\n",
        "])\n",
        "\n",
        "# Keep test transforms simple\n",
        "test_transforms = transforms.Compose([\n",
        "    transforms.ToTensor(),\n",
        "    transforms.Normalize((0.1307,), (0.3081,))\n",
        "])\n",
        "\n",
        "# Create data loaders with respective transforms\n",
        "train_loader = torch.utils.data.DataLoader(\n",
        "    datasets.MNIST(\n",
        "        '../data', \n",
        "        train=True, \n",
        "        download=True,\n",
        "        transform=train_transforms  # Apply augmentation only to training data\n",
        "    ),\n",
        "    batch_size=batch_size_train, \n",
        "    shuffle=True, \n",
        "    **kwargs\n",
        ")\n",
        "\n",
        "test_loader = torch.utils.data.DataLoader(\n",
        "    datasets.MNIST(\n",
        "        '../data', \n",
        "        train=False, \n",
        "        transform=test_transforms  # No augmentation for test data\n",
        "    ),\n",
        "    batch_size=batch_size_test, \n",
        "    shuffle=True, \n",
        "    **kwargs\n",
        ")"
      ]
    },
    {
      "cell_type": "code",
      "execution_count": 71,
      "metadata": {
        "id": "8fDefDhaFlwH"
      },
      "outputs": [],
      "source": [
        "from tqdm import tqdm\n",
        "def train(model, device, train_loader, optimizer, epoch):\n",
        "    model.train()\n",
        "    criterion = nn.CrossEntropyLoss(label_smoothing=0.1)\n",
        "    pbar = tqdm(train_loader)\n",
        "    for batch_idx, (data, target) in enumerate(pbar):\n",
        "        data, target = data.to(device), target.to(device)\n",
        "        optimizer.zero_grad()\n",
        "        output = model(data)\n",
        "        #loss = F.nll_loss(output, target)\n",
        "        loss = criterion(output, target)\n",
        "        loss.backward()\n",
        "        optimizer.step()\n",
        "        pbar.set_description(desc= f'loss={loss.item()} batch_id={batch_idx}')\n",
        "\n",
        "\n",
        "def test(model, device, test_loader):\n",
        "    model.eval()\n",
        "    test_loss = 0\n",
        "    correct = 0\n",
        "    criterion = nn.CrossEntropyLoss()\n",
        "    with torch.no_grad():\n",
        "        for data, target in test_loader:\n",
        "            data, target = data.to(device), target.to(device)\n",
        "            output = model(data)\n",
        "            test_loss += criterion(output, target).item()  # sum up batch loss\n",
        "            pred = output.argmax(dim=1, keepdim=True)  # get the index of the max log-probability\n",
        "            correct += pred.eq(target.view_as(pred)).sum().item()\n",
        "\n",
        "    test_loss /= len(test_loader.dataset)\n",
        "\n",
        "    print('\\nTest set: Average loss: {:.4f}, Accuracy: {}/{} ({:.2f}%)\\n'.format(\n",
        "        test_loss, correct, len(test_loader.dataset),\n",
        "        100. * correct / len(test_loader.dataset)))"
      ]
    },
    {
      "cell_type": "code",
      "execution_count": 72,
      "metadata": {
        "id": "So5uk4EkHW6R"
      },
      "outputs": [
        {
          "name": "stderr",
          "output_type": "stream",
          "text": [
            "loss=1.3856781721115112 batch_id=11: 100%|██████████| 12/12 [00:12<00:00,  1.02s/it]\n"
          ]
        },
        {
          "name": "stdout",
          "output_type": "stream",
          "text": [
            "\n",
            "Test set: Average loss: 0.0007, Accuracy: 8191/10000 (81.91%)\n",
            "\n"
          ]
        },
        {
          "name": "stderr",
          "output_type": "stream",
          "text": [
            "loss=0.9842872619628906 batch_id=11: 100%|██████████| 12/12 [00:11<00:00,  1.02it/s]\n"
          ]
        },
        {
          "name": "stdout",
          "output_type": "stream",
          "text": [
            "\n",
            "Test set: Average loss: 0.0005, Accuracy: 8785/10000 (87.85%)\n",
            "\n"
          ]
        },
        {
          "name": "stderr",
          "output_type": "stream",
          "text": [
            "loss=0.8454082608222961 batch_id=11: 100%|██████████| 12/12 [00:13<00:00,  1.12s/it]\n"
          ]
        },
        {
          "name": "stdout",
          "output_type": "stream",
          "text": [
            "\n",
            "Test set: Average loss: 0.0003, Accuracy: 9570/10000 (95.70%)\n",
            "\n"
          ]
        },
        {
          "name": "stderr",
          "output_type": "stream",
          "text": [
            "loss=0.7654275298118591 batch_id=11: 100%|██████████| 12/12 [00:13<00:00,  1.10s/it]\n"
          ]
        },
        {
          "name": "stdout",
          "output_type": "stream",
          "text": [
            "\n",
            "Test set: Average loss: 0.0001, Accuracy: 9795/10000 (97.95%)\n",
            "\n"
          ]
        },
        {
          "name": "stderr",
          "output_type": "stream",
          "text": [
            "loss=0.7238889932632446 batch_id=11: 100%|██████████| 12/12 [00:13<00:00,  1.16s/it]\n"
          ]
        },
        {
          "name": "stdout",
          "output_type": "stream",
          "text": [
            "\n",
            "Test set: Average loss: 0.0002, Accuracy: 9813/10000 (98.13%)\n",
            "\n"
          ]
        },
        {
          "name": "stderr",
          "output_type": "stream",
          "text": [
            "loss=0.7016727924346924 batch_id=11: 100%|██████████| 12/12 [00:13<00:00,  1.13s/it]\n"
          ]
        },
        {
          "name": "stdout",
          "output_type": "stream",
          "text": [
            "\n",
            "Test set: Average loss: 0.0002, Accuracy: 9835/10000 (98.35%)\n",
            "\n"
          ]
        },
        {
          "name": "stderr",
          "output_type": "stream",
          "text": [
            "loss=0.6811283826828003 batch_id=11: 100%|██████████| 12/12 [00:13<00:00,  1.09s/it]\n"
          ]
        },
        {
          "name": "stdout",
          "output_type": "stream",
          "text": [
            "\n",
            "Test set: Average loss: 0.0001, Accuracy: 9840/10000 (98.40%)\n",
            "\n"
          ]
        },
        {
          "name": "stderr",
          "output_type": "stream",
          "text": [
            "loss=0.6567869186401367 batch_id=11: 100%|██████████| 12/12 [00:12<00:00,  1.04s/it]\n"
          ]
        },
        {
          "name": "stdout",
          "output_type": "stream",
          "text": [
            "\n",
            "Test set: Average loss: 0.0001, Accuracy: 9870/10000 (98.70%)\n",
            "\n"
          ]
        },
        {
          "name": "stderr",
          "output_type": "stream",
          "text": [
            "loss=0.6603922247886658 batch_id=11: 100%|██████████| 12/12 [00:12<00:00,  1.04s/it]\n"
          ]
        },
        {
          "name": "stdout",
          "output_type": "stream",
          "text": [
            "\n",
            "Test set: Average loss: 0.0001, Accuracy: 9880/10000 (98.80%)\n",
            "\n"
          ]
        },
        {
          "name": "stderr",
          "output_type": "stream",
          "text": [
            "loss=0.6562990546226501 batch_id=11: 100%|██████████| 12/12 [00:12<00:00,  1.06s/it]\n"
          ]
        },
        {
          "name": "stdout",
          "output_type": "stream",
          "text": [
            "\n",
            "Test set: Average loss: 0.0001, Accuracy: 9873/10000 (98.73%)\n",
            "\n"
          ]
        },
        {
          "name": "stderr",
          "output_type": "stream",
          "text": [
            "loss=0.6405767202377319 batch_id=11: 100%|██████████| 12/12 [00:13<00:00,  1.14s/it]\n"
          ]
        },
        {
          "name": "stdout",
          "output_type": "stream",
          "text": [
            "\n",
            "Test set: Average loss: 0.0001, Accuracy: 9887/10000 (98.87%)\n",
            "\n"
          ]
        },
        {
          "name": "stderr",
          "output_type": "stream",
          "text": [
            "loss=0.6244598627090454 batch_id=11: 100%|██████████| 12/12 [00:12<00:00,  1.06s/it]\n"
          ]
        },
        {
          "name": "stdout",
          "output_type": "stream",
          "text": [
            "\n",
            "Test set: Average loss: 0.0001, Accuracy: 9892/10000 (98.92%)\n",
            "\n"
          ]
        },
        {
          "name": "stderr",
          "output_type": "stream",
          "text": [
            "loss=0.6279051303863525 batch_id=11: 100%|██████████| 12/12 [00:12<00:00,  1.06s/it]\n"
          ]
        },
        {
          "name": "stdout",
          "output_type": "stream",
          "text": [
            "\n",
            "Test set: Average loss: 0.0001, Accuracy: 9888/10000 (98.88%)\n",
            "\n"
          ]
        },
        {
          "name": "stderr",
          "output_type": "stream",
          "text": [
            "loss=0.6210246086120605 batch_id=11: 100%|██████████| 12/12 [00:12<00:00,  1.04s/it]\n"
          ]
        },
        {
          "name": "stdout",
          "output_type": "stream",
          "text": [
            "\n",
            "Test set: Average loss: 0.0001, Accuracy: 9892/10000 (98.92%)\n",
            "\n"
          ]
        },
        {
          "name": "stderr",
          "output_type": "stream",
          "text": [
            "loss=0.614555299282074 batch_id=11: 100%|██████████| 12/12 [00:12<00:00,  1.07s/it] \n"
          ]
        },
        {
          "name": "stdout",
          "output_type": "stream",
          "text": [
            "\n",
            "Test set: Average loss: 0.0001, Accuracy: 9901/10000 (99.01%)\n",
            "\n"
          ]
        },
        {
          "name": "stderr",
          "output_type": "stream",
          "text": [
            "loss=0.6065343022346497 batch_id=11: 100%|██████████| 12/12 [00:12<00:00,  1.06s/it]\n"
          ]
        },
        {
          "name": "stdout",
          "output_type": "stream",
          "text": [
            "\n",
            "Test set: Average loss: 0.0001, Accuracy: 9899/10000 (98.99%)\n",
            "\n"
          ]
        },
        {
          "name": "stderr",
          "output_type": "stream",
          "text": [
            "loss=0.6056410074234009 batch_id=11: 100%|██████████| 12/12 [00:12<00:00,  1.05s/it]\n"
          ]
        },
        {
          "name": "stdout",
          "output_type": "stream",
          "text": [
            "\n",
            "Test set: Average loss: 0.0001, Accuracy: 9897/10000 (98.97%)\n",
            "\n"
          ]
        },
        {
          "name": "stderr",
          "output_type": "stream",
          "text": [
            "loss=0.5967192649841309 batch_id=11: 100%|██████████| 12/12 [00:12<00:00,  1.02s/it]\n"
          ]
        },
        {
          "name": "stdout",
          "output_type": "stream",
          "text": [
            "\n",
            "Test set: Average loss: 0.0001, Accuracy: 9903/10000 (99.03%)\n",
            "\n"
          ]
        },
        {
          "name": "stderr",
          "output_type": "stream",
          "text": [
            "loss=0.6048063039779663 batch_id=11: 100%|██████████| 12/12 [00:15<00:00,  1.26s/it]\n"
          ]
        },
        {
          "name": "stdout",
          "output_type": "stream",
          "text": [
            "\n",
            "Test set: Average loss: 0.0001, Accuracy: 9904/10000 (99.04%)\n",
            "\n"
          ]
        },
        {
          "name": "stderr",
          "output_type": "stream",
          "text": [
            "loss=0.597832441329956 batch_id=11: 100%|██████████| 12/12 [00:13<00:00,  1.15s/it] \n"
          ]
        },
        {
          "name": "stdout",
          "output_type": "stream",
          "text": [
            "\n",
            "Test set: Average loss: 0.0001, Accuracy: 9907/10000 (99.07%)\n",
            "\n"
          ]
        }
      ],
      "source": [
        "\n",
        "model = Net().to(device)\n",
        "optimizer = optim.AdamW(model.parameters(), lr=0.009, weight_decay=0.00001)\n",
        "\n",
        "for epoch in range(1, 21):\n",
        "    train(model, device, train_loader, optimizer, epoch)\n",
        "    test(model, device, test_loader)"
      ]
    }
  ],
  "metadata": {
    "accelerator": "GPU",
    "colab": {
      "provenance": []
    },
    "kernelspec": {
      "display_name": "Python 3",
      "name": "python3"
    },
    "language_info": {
      "codemirror_mode": {
        "name": "ipython",
        "version": 3
      },
      "file_extension": ".py",
      "mimetype": "text/x-python",
      "name": "python",
      "nbconvert_exporter": "python",
      "pygments_lexer": "ipython3",
      "version": "3.11.9"
    }
  },
  "nbformat": 4,
  "nbformat_minor": 0
}
